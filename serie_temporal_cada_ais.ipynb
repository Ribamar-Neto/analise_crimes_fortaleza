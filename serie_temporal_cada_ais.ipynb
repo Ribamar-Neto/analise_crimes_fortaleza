{
 "cells": [
  {
   "cell_type": "code",
   "execution_count": 2,
   "id": "56e27858",
   "metadata": {},
   "outputs": [],
   "source": [
    "import pandas as pd\n",
    "import matplotlib.pyplot as plt\n",
    "import seaborn as sns\n",
    "from ipywidgets import interact, widgets\n",
    "import plotly.express as px\n",
    "import json"
   ]
  },
  {
   "cell_type": "code",
   "execution_count": 3,
   "id": "8d78f090",
   "metadata": {},
   "outputs": [],
   "source": [
    "df_fortaleza = pd.read_excel(\"https://www.sspds.ce.gov.br/wp-content/uploads/sites/24/2025/03/CVLI_2009-2024.xlsx\", engine=\"openpyxl\")\n",
    "\n",
    "with open(\"source_data/populacao_2022.json\", \"r\", encoding=\"utf-8\") as f:\n",
    "    populacao_2022 = json.load(f)\n",
    "\n",
    "with open(\"source_data/bairros_por_ais.json\", \"r\", encoding=\"utf-8\") as f:\n",
    "    bairros_por_ais = json.load(f)\n"
   ]
  },
  {
   "cell_type": "code",
   "execution_count": 4,
   "id": "edd23997",
   "metadata": {},
   "outputs": [],
   "source": [
    "populacao_total_ais = {\n",
    "    ais: sum(populacao_2022.get(bairro, 0) for bairro in bairros)\n",
    "    for ais, bairros in bairros_por_ais.items()\n",
    "}"
   ]
  },
  {
   "cell_type": "code",
   "execution_count": 5,
   "id": "bac22a65",
   "metadata": {},
   "outputs": [],
   "source": [
    "def agrupar_por_ais(df:pd.DataFrame, nome_ais:str):\n",
    "    df_filtrada = df[df[\"AIS\"] == nome_ais]\n",
    "    df_agrupada = df_filtrada.groupby(\"Ano\").size().reset_index(name=\"Total\")\n",
    "    return df_agrupada"
   ]
  },
  {
   "cell_type": "code",
   "execution_count": 6,
   "id": "ba77ca88",
   "metadata": {},
   "outputs": [],
   "source": [
    "def plot_serie_temporal(df_para_plot:pd.DataFrame, ais:str):\n",
    "    df_para_plot = agrupar_por_ais(df_para_plot, ais)\n",
    "\n",
    "    plt.figure(figsize=(16, 6))\n",
    "    sns.barplot(data=df_para_plot,\n",
    "                x=\"Ano\",\n",
    "                hue=\"Ano\",\n",
    "                y=\"Total\",\n",
    "                legend=False,\n",
    "                palette=\"coolwarm\"\n",
    "                )\n",
    "    plt.title(f\"Quantidade de Casos por Ano da {ais}\")\n",
    "    plt.xlabel(\"Ano\")\n",
    "    plt.ylabel(\"Quantidade de Casos\")\n",
    "    plt.show()"
   ]
  },
  {
   "cell_type": "code",
   "execution_count": 7,
   "id": "d76a9b79",
   "metadata": {},
   "outputs": [],
   "source": [
    "def serie_temporal_interativa(df: pd.DataFrame, ais: str):\n",
    "    # Agrupar os dados da AIS\n",
    "    df = agrupar_por_ais(df, ais)\n",
    "    numero_ais = ais.split()[1]\n",
    "    # Obter a população da AIS\n",
    "    populacao = (\n",
    "        populacao_total_ais.get(str(int(numero_ais)))\n",
    "        if numero_ais is not None\n",
    "        else None\n",
    "    )\n",
    "\n",
    "    # Formatar o título com a população\n",
    "    if populacao is not None:\n",
    "        populacao_formatada = f\"{populacao:,}\".replace(\",\", \".\")\n",
    "        titulo = (\n",
    "            f\"Quantidade de Casos por Ano - {ais} \"\n",
    "            f\"(População: {populacao_formatada} habitantes, de acordo com o Censo do IBGE 2022)\"\n",
    "        )\n",
    "    else:\n",
    "        titulo = f\"Quantidade de Casos por Ano - {ais} (População: não informada)\"\n",
    "\n",
    "    \n",
    "    fig = px.bar(\n",
    "        df,\n",
    "        x=\"Ano\",\n",
    "        y=\"Total\",\n",
    "        color=\"Total\",\n",
    "        title=titulo,\n",
    "        labels={\"Total\": \"Quantidade de Casos\"},\n",
    "        height=600\n",
    "    )\n",
    "\n",
    "    fig.update_layout(showlegend=False)\n",
    "    fig.show()\n"
   ]
  },
  {
   "cell_type": "code",
   "execution_count": 8,
   "id": "2037299d",
   "metadata": {},
   "outputs": [],
   "source": [
    "def plotar_series_temporais(df: pd.DataFrame):\n",
    "    # Filtra valores válidos\n",
    "    df = df[df[\"AIS\"] != \"AIS não identificadas\"]\n",
    "    \n",
    "    ais_options = sorted(df['AIS'].unique())\n",
    "    dropdown = widgets.Dropdown(options=ais_options, description='AIS:')\n",
    "    \n",
    "    interact(lambda ais: serie_temporal_interativa(df, ais), ais=dropdown)"
   ]
  },
  {
   "cell_type": "code",
   "execution_count": 9,
   "id": "fde17c5d",
   "metadata": {},
   "outputs": [],
   "source": [
    "df_fortaleza[\"Data\"] = pd.to_datetime(df_fortaleza[\"Data\"], format=\"%Y-%m-%d\", errors=\"coerce\")"
   ]
  },
  {
   "cell_type": "code",
   "execution_count": 10,
   "id": "0d1f2b27",
   "metadata": {},
   "outputs": [],
   "source": [
    "df_fortaleza[\"Ano\"] = df_fortaleza[\"Data\"].dt.year"
   ]
  },
  {
   "cell_type": "code",
   "execution_count": 11,
   "id": "6d475f29",
   "metadata": {},
   "outputs": [
    {
     "data": {
      "application/vnd.jupyter.widget-view+json": {
       "model_id": "3464c19721ad4a9dbb19e5c453a78e6f",
       "version_major": 2,
       "version_minor": 0
      },
      "text/plain": [
       "interactive(children=(Dropdown(description='AIS:', options=('AIS 01', 'AIS 02', 'AIS 03', 'AIS 04', 'AIS 05', …"
      ]
     },
     "metadata": {},
     "output_type": "display_data"
    }
   ],
   "source": [
    "plotar_series_temporais(df_fortaleza)"
   ]
  }
 ],
 "metadata": {
  "kernelspec": {
   "display_name": "estatistica-aplicada",
   "language": "python",
   "name": "python3"
  },
  "language_info": {
   "codemirror_mode": {
    "name": "ipython",
    "version": 3
   },
   "file_extension": ".py",
   "mimetype": "text/x-python",
   "name": "python",
   "nbconvert_exporter": "python",
   "pygments_lexer": "ipython3",
   "version": "3.12.8"
  }
 },
 "nbformat": 4,
 "nbformat_minor": 5
}
