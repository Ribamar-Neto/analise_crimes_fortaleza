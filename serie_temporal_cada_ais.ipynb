{
 "cells": [
  {
   "cell_type": "code",
   "execution_count": 118,
   "id": "56e27858",
   "metadata": {},
   "outputs": [],
   "source": [
    "import pandas as pd\n",
    "import matplotlib.pyplot as plt\n",
    "import seaborn as sns\n",
    "from ipywidgets import interact, widgets\n",
    "import plotly.express as px\n",
    "import json"
   ]
  },
  {
   "cell_type": "code",
   "execution_count": 119,
   "id": "8d78f090",
   "metadata": {},
   "outputs": [],
   "source": [
    "df_fortaleza = pd.read_csv(\"datasets\\\\CVLI_Fortaleza.csv\")\n",
    "\n",
    "with open(\"datasets\\\\população.json\", \"r\", encoding=\"utf-8\") as f:\n",
    "    populacao_2022 = json.load(f)\n",
    "\n",
    "with open(\"datasets\\\\bairros.json\", \"r\", encoding=\"utf-8\") as f:\n",
    "    bairros_por_ais = json.load(f)"
   ]
  },
  {
   "cell_type": "code",
   "execution_count": 120,
   "id": "edd23997",
   "metadata": {},
   "outputs": [
    {
     "data": {
      "text/plain": [
       "int"
      ]
     },
     "execution_count": 120,
     "metadata": {},
     "output_type": "execute_result"
    }
   ],
   "source": [
    "populacao_total_ais = {\n",
    "    ais: sum(populacao_2022.get(bairro, 0) for bairro in bairros)\n",
    "    for ais, bairros in bairros_por_ais.items()\n",
    "}\n",
    "\n",
    "\n",
    "type(populacao_total_ais[\"1\"])"
   ]
  },
  {
   "cell_type": "code",
   "execution_count": 121,
   "id": "bac22a65",
   "metadata": {},
   "outputs": [],
   "source": [
    "def agrupar_por_ais(df:pd.DataFrame, nome_ais:str):\n",
    "    df_filtrada = df[df[\"AIS\"] == nome_ais]\n",
    "    df_agrupada = df_filtrada.groupby(\"Ano\").size().reset_index(name=\"Total\")\n",
    "    return df_agrupada"
   ]
  },
  {
   "cell_type": "code",
   "execution_count": 122,
   "id": "ba77ca88",
   "metadata": {},
   "outputs": [],
   "source": [
    "def plot_serie_temporal(df_para_plot:pd.DataFrame, ais:str):\n",
    "    df_para_plot = agrupar_por_ais(df_para_plot, ais)\n",
    "\n",
    "    plt.figure(figsize=(16, 6))\n",
    "    sns.barplot(data=df_para_plot,\n",
    "                x=\"Ano\",\n",
    "                hue=\"Ano\",\n",
    "                y=\"Total\",\n",
    "                legend=False,\n",
    "                palette=\"coolwarm\"\n",
    "                )\n",
    "    plt.title(f\"Quantidade de Casos por Ano da {ais}\")\n",
    "    plt.xlabel(\"Ano\")\n",
    "    plt.ylabel(\"Quantidade de Casos\")\n",
    "    plt.show()"
   ]
  },
  {
   "cell_type": "code",
   "execution_count": 123,
   "id": "d76a9b79",
   "metadata": {},
   "outputs": [],
   "source": [
    "def serie_temporal_interativa(df: pd.DataFrame, ais: str):\n",
    "    # Agrupar os dados da AIS\n",
    "    df = agrupar_por_ais(df, ais)\n",
    "    numero_ais = ais.split()[1]\n",
    "    # Obter a população da AIS\n",
    "    populacao = populacao_total_ais.get(str(int(numero_ais)))\n",
    "\n",
    "    # Formatar o título com a população\n",
    "    populacao_formatada = f\"{populacao:,}\".replace(\",\", \".\")\n",
    "    titulo = f\"Quantidade de Casos por Ano - {ais} (População: {populacao_formatada} habitantes, de acordo com o Censo do IBGE 2022)\"\n",
    "\n",
    "    \n",
    "    fig = px.bar(\n",
    "        df,\n",
    "        x=\"Ano\",\n",
    "        y=\"Total\",\n",
    "        color=\"Total\",\n",
    "        title=titulo,\n",
    "        labels={\"Total\": \"Quantidade de Casos\"},\n",
    "        height=600\n",
    "    )\n",
    "\n",
    "    fig.update_layout(showlegend=False)\n",
    "    fig.show()\n"
   ]
  },
  {
   "cell_type": "code",
   "execution_count": 124,
   "id": "2037299d",
   "metadata": {},
   "outputs": [],
   "source": [
    "def plotar_series_temporais(df: pd.DataFrame):\n",
    "    # Filtra valores válidos\n",
    "    df = df[df[\"AIS\"] != \"AIS não identificadas\"]\n",
    "    \n",
    "    ais_options = sorted(df['AIS'].unique())\n",
    "    dropdown = widgets.Dropdown(options=ais_options, description='AIS:')\n",
    "    \n",
    "    interact(lambda ais: serie_temporal_interativa(df, ais), ais=dropdown)"
   ]
  },
  {
   "cell_type": "code",
   "execution_count": 125,
   "id": "fde17c5d",
   "metadata": {},
   "outputs": [],
   "source": [
    "df_fortaleza[\"Data\"] = pd.to_datetime(df_fortaleza[\"Data\"], format=\"%Y-%m-%d\", errors=\"coerce\")"
   ]
  },
  {
   "cell_type": "code",
   "execution_count": 126,
   "id": "0d1f2b27",
   "metadata": {},
   "outputs": [],
   "source": [
    "df_fortaleza[\"Ano\"] = df_fortaleza[\"Data\"].dt.year"
   ]
  },
  {
   "cell_type": "code",
   "execution_count": 127,
   "id": "6d475f29",
   "metadata": {},
   "outputs": [
    {
     "data": {
      "application/vnd.jupyter.widget-view+json": {
       "model_id": "0133a005e35747a68f5eed7ffe1317be",
       "version_major": 2,
       "version_minor": 0
      },
      "text/plain": [
       "interactive(children=(Dropdown(description='AIS:', options=('AIS 01', 'AIS 02', 'AIS 03', 'AIS 04', 'AIS 05', …"
      ]
     },
     "metadata": {},
     "output_type": "display_data"
    }
   ],
   "source": [
    "plotar_series_temporais(df_fortaleza)"
   ]
  }
 ],
 "metadata": {
  "kernelspec": {
   "display_name": "venv",
   "language": "python",
   "name": "python3"
  },
  "language_info": {
   "codemirror_mode": {
    "name": "ipython",
    "version": 3
   },
   "file_extension": ".py",
   "mimetype": "text/x-python",
   "name": "python",
   "nbconvert_exporter": "python",
   "pygments_lexer": "ipython3",
   "version": "3.13.3"
  }
 },
 "nbformat": 4,
 "nbformat_minor": 5
}
